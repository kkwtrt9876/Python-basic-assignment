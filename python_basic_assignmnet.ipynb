{
  "nbformat": 4,
  "nbformat_minor": 0,
  "metadata": {
    "colab": {
      "provenance": []
    },
    "kernelspec": {
      "name": "python3",
      "display_name": "Python 3"
    },
    "language_info": {
      "name": "python"
    }
  },
  "cells": [
    {
      "cell_type": "markdown",
      "source": [
        "**1.Explain the key Features of python that makes it a popular programming choice for programming.**"
      ],
      "metadata": {
        "id": "ahOSvB047X0p"
      }
    },
    {
      "cell_type": "markdown",
      "source": [
        "Python is a programming language that is easy to understand and write, making it a popular choice among developers and programmers. It is compatible with various programming paradigms, such as procedural, object-oriented, and functional programming. Python has a large and active community of developers, an extensive standard library, and third-party packages for various domains."
      ],
      "metadata": {
        "id": "mHX4F_SX7ZsR"
      }
    },
    {
      "cell_type": "markdown",
      "source": [
        "**2. Describe the role of predefined keywords in python and provide examples of how they are used in a program**"
      ],
      "metadata": {
        "id": "NjdBQ1wQ8AFq"
      }
    },
    {
      "cell_type": "markdown",
      "source": [
        "Predefined keywords in Python are reserved words that have special meanings and cannot be used for variable names. They play crucial roles in defining the structure and control flow of a program. example :- if , else , elif.\n",
        "example of usage :-  \n"
      ],
      "metadata": {
        "id": "mag9ol2L8OGR"
      }
    },
    {
      "cell_type": "code",
      "source": [
        "x = 9\n",
        "if x > 10:\n",
        "    print(\"x is greater than 10\")\n",
        "else:\n",
        "    print(\"x is less than 10\")"
      ],
      "metadata": {
        "colab": {
          "base_uri": "https://localhost:8080/"
        },
        "id": "MoEH5J9J8973",
        "outputId": "46fa9e63-33f0-41e4-ac1b-80e295e6ccb5"
      },
      "execution_count": 2,
      "outputs": [
        {
          "output_type": "stream",
          "name": "stdout",
          "text": [
            "x is less than 10\n"
          ]
        }
      ]
    },
    {
      "cell_type": "markdown",
      "source": [
        "**3. Compare and contrast mutable and immutable objects in python with examples.**"
      ],
      "metadata": {
        "id": "966mHLdV8l9C"
      }
    },
    {
      "cell_type": "markdown",
      "source": [
        "immutable objects are the objects that can be changed after creation. example tuples"
      ],
      "metadata": {
        "id": "WeTUqGbG88r7"
      }
    },
    {
      "cell_type": "code",
      "source": [
        "my_tuple = (1, 2, 3)\n",
        "my_tuple[0] = 4  # This will raise a TypeError\n"
      ],
      "metadata": {
        "colab": {
          "base_uri": "https://localhost:8080/",
          "height": 158
        },
        "id": "OTSqQanJ8gz4",
        "outputId": "460898bd-545c-4fc0-8782-83fd79f48bd3"
      },
      "execution_count": 3,
      "outputs": [
        {
          "output_type": "error",
          "ename": "TypeError",
          "evalue": "'tuple' object does not support item assignment",
          "traceback": [
            "\u001b[0;31m---------------------------------------------------------------------------\u001b[0m",
            "\u001b[0;31mTypeError\u001b[0m                                 Traceback (most recent call last)",
            "\u001b[0;32m<ipython-input-3-182c12cb52cc>\u001b[0m in \u001b[0;36m<cell line: 2>\u001b[0;34m()\u001b[0m\n\u001b[1;32m      1\u001b[0m \u001b[0mmy_tuple\u001b[0m \u001b[0;34m=\u001b[0m \u001b[0;34m(\u001b[0m\u001b[0;36m1\u001b[0m\u001b[0;34m,\u001b[0m \u001b[0;36m2\u001b[0m\u001b[0;34m,\u001b[0m \u001b[0;36m3\u001b[0m\u001b[0;34m)\u001b[0m\u001b[0;34m\u001b[0m\u001b[0;34m\u001b[0m\u001b[0m\n\u001b[0;32m----> 2\u001b[0;31m \u001b[0mmy_tuple\u001b[0m\u001b[0;34m[\u001b[0m\u001b[0;36m0\u001b[0m\u001b[0;34m]\u001b[0m \u001b[0;34m=\u001b[0m \u001b[0;36m4\u001b[0m  \u001b[0;31m# This will raise a TypeError\u001b[0m\u001b[0;34m\u001b[0m\u001b[0;34m\u001b[0m\u001b[0m\n\u001b[0m",
            "\u001b[0;31mTypeError\u001b[0m: 'tuple' object does not support item assignment"
          ]
        }
      ]
    },
    {
      "cell_type": "markdown",
      "source": [
        "mutable objects are the objects that can be changed after creation examples are list , set , dictionaries"
      ],
      "metadata": {
        "id": "i2EqPAgCBBfs"
      }
    },
    {
      "cell_type": "code",
      "source": [
        "my_list = [1, 2, 3]\n",
        "my_list.append(4)\n",
        "print(my_list)  # Output: [1, 2, 3, 4]\n"
      ],
      "metadata": {
        "colab": {
          "base_uri": "https://localhost:8080/"
        },
        "id": "P-2GDWh-9apc",
        "outputId": "dd35d4a3-76f2-4bdb-9c22-2d6a70f7e7fd"
      },
      "execution_count": 4,
      "outputs": [
        {
          "output_type": "stream",
          "name": "stdout",
          "text": [
            "[1, 2, 3, 4]\n"
          ]
        }
      ]
    },
    {
      "cell_type": "markdown",
      "source": [
        "**4. Discuss the different types of operators in Python and provide examples of how they are used.**\n",
        "\n"
      ],
      "metadata": {
        "id": "R6E-Ni03BRzA"
      }
    },
    {
      "cell_type": "markdown",
      "source": [
        "Arithmetic Operators: Perform mathematical operations.\n",
        "+ (Addition), - (Subtraction), * (Multiplication), / (Division)"
      ],
      "metadata": {
        "id": "EV7TV2iwCU8T"
      }
    },
    {
      "cell_type": "code",
      "source": [
        "a = 5 + 3  # 8\n",
        "a"
      ],
      "metadata": {
        "colab": {
          "base_uri": "https://localhost:8080/"
        },
        "id": "Phsnsz0uBP3U",
        "outputId": "c75f3208-d23e-4c4f-91c1-3b19b9291930"
      },
      "execution_count": 5,
      "outputs": [
        {
          "output_type": "execute_result",
          "data": {
            "text/plain": [
              "8"
            ]
          },
          "metadata": {},
          "execution_count": 5
        }
      ]
    },
    {
      "cell_type": "markdown",
      "source": [
        "Comparison Operators: Compare two values.\n",
        "\n",
        "== (Equal), != (Not Equal), >, <, >=, <="
      ],
      "metadata": {
        "id": "Y99NG6H9FbcM"
      }
    },
    {
      "cell_type": "code",
      "source": [
        "a = 5\n",
        "b = 1\n",
        "if a > b:\n",
        "    print(\"a is greater than b\")\n"
      ],
      "metadata": {
        "colab": {
          "base_uri": "https://localhost:8080/"
        },
        "id": "nQXtuhwzFax8",
        "outputId": "24d1ef29-c5b6-4b2f-c577-9d7658c81028"
      },
      "execution_count": 7,
      "outputs": [
        {
          "output_type": "stream",
          "name": "stdout",
          "text": [
            "a is greater than b\n"
          ]
        }
      ]
    },
    {
      "cell_type": "markdown",
      "source": [
        "Logical Operators: Combine conditional statements.\n",
        "\n",
        "and, or, not"
      ],
      "metadata": {
        "id": "LIExuoQDFlUa"
      }
    },
    {
      "cell_type": "code",
      "source": [
        "a = 11\n",
        "b= 15\n",
        "if a > 10 and b < 20:\n",
        "    print(\"Condition met\")\n"
      ],
      "metadata": {
        "colab": {
          "base_uri": "https://localhost:8080/"
        },
        "id": "bAFFesE3FZDr",
        "outputId": "cdf59201-e932-4eae-9232-f4afe59d6d2c"
      },
      "execution_count": 8,
      "outputs": [
        {
          "output_type": "stream",
          "name": "stdout",
          "text": [
            "Condition met\n"
          ]
        }
      ]
    },
    {
      "cell_type": "markdown",
      "source": [
        "Assignment Operators: Assign values to variables.\n",
        "\n",
        "=, +=, -=, *=, /="
      ],
      "metadata": {
        "id": "DKGa5auvFwsp"
      }
    },
    {
      "cell_type": "code",
      "source": [
        "a = 0\n",
        "a += 5  # equivalent to a = a + 5\n",
        "a"
      ],
      "metadata": {
        "colab": {
          "base_uri": "https://localhost:8080/"
        },
        "id": "rq5kgTmvFtLU",
        "outputId": "b8fd22cd-8085-46c6-a53b-0228a050d55c"
      },
      "execution_count": 9,
      "outputs": [
        {
          "output_type": "execute_result",
          "data": {
            "text/plain": [
              "5"
            ]
          },
          "metadata": {},
          "execution_count": 9
        }
      ]
    },
    {
      "cell_type": "markdown",
      "source": [
        "**5. Explain the concept of type casting in Python with examples.**"
      ],
      "metadata": {
        "id": "09Zwg8xIF2Pi"
      }
    },
    {
      "cell_type": "markdown",
      "source": [
        "Type casting is the conversion of one data type into another. Python supports several built-in functions for this."
      ],
      "metadata": {
        "id": "Snt_TII1GPLm"
      }
    },
    {
      "cell_type": "code",
      "source": [
        "from pickle import STRING\n",
        "\n",
        "a = int(\"10\")  # Converts string \"10\" to integer 10\n",
        "b= float(\"10.5\")\n",
        "c = str(10)  # Converts integer 10 to string \"10\"\n"
      ],
      "metadata": {
        "id": "pzM3smv_F09I"
      },
      "execution_count": 12,
      "outputs": []
    },
    {
      "cell_type": "markdown",
      "source": [
        "**6. How do conditional statements work in Python? illustrate with examples.**"
      ],
      "metadata": {
        "id": "lWjWEnaNGkK8"
      }
    },
    {
      "cell_type": "markdown",
      "source": [
        "Conditional statements allow you to execute code blocks based on certain conditions."
      ],
      "metadata": {
        "id": "hhuqfByCHRPf"
      }
    },
    {
      "cell_type": "code",
      "source": [
        "#if statement\n",
        "x = 10\n",
        "if x > 5:\n",
        "    print(\"x is greater than 5\")\n"
      ],
      "metadata": {
        "colab": {
          "base_uri": "https://localhost:8080/"
        },
        "id": "vEJWoNbEGbaF",
        "outputId": "8ba983a7-32b1-4447-a2ec-bdc2760b6398"
      },
      "execution_count": 13,
      "outputs": [
        {
          "output_type": "stream",
          "name": "stdout",
          "text": [
            "x is greater than 5\n"
          ]
        }
      ]
    },
    {
      "cell_type": "code",
      "source": [
        "#if else\n",
        "x = 10\n",
        "if x > 15:\n",
        "    print(\"x is greater than 15\")\n",
        "else:\n",
        "    print(\"x is 15 or less\")\n"
      ],
      "metadata": {
        "colab": {
          "base_uri": "https://localhost:8080/"
        },
        "id": "0Ysl1FO2HXJ6",
        "outputId": "390c6fb9-17e9-434d-b23e-5555d1dd4cc3"
      },
      "execution_count": 15,
      "outputs": [
        {
          "output_type": "stream",
          "name": "stdout",
          "text": [
            "x is 15 or less\n"
          ]
        }
      ]
    },
    {
      "cell_type": "code",
      "source": [
        "#if elif else\n",
        "x = 10\n",
        "if x > 15:\n",
        "    print(\"x is greater than 15\")\n",
        "elif x > 5:\n",
        "    print(\"x is greater than 5 but less than or equal to 15\")\n",
        "else:\n",
        "    print(\"x is 5 or less\")\n"
      ],
      "metadata": {
        "colab": {
          "base_uri": "https://localhost:8080/"
        },
        "id": "Lx7_no3OHZ5Q",
        "outputId": "0fbdcd4e-b943-4782-c1f9-719dd06fa1e7"
      },
      "execution_count": 16,
      "outputs": [
        {
          "output_type": "stream",
          "name": "stdout",
          "text": [
            "x is greater than 5 but less than or equal to 15\n"
          ]
        }
      ]
    },
    {
      "cell_type": "markdown",
      "source": [
        "**7. Describe the different types of loops in Python and their use cases with examples.**"
      ],
      "metadata": {
        "id": "dCU-FdUWHmaO"
      }
    },
    {
      "cell_type": "markdown",
      "source": [
        "for Loop: Used to iterate over a sequence (e.g., list, tuple, string) or range of numbers.\n",
        "\n"
      ],
      "metadata": {
        "id": "zIdeOOs9HxZ8"
      }
    },
    {
      "cell_type": "code",
      "source": [
        "for i in range(5):\n",
        "    print(i)  # Outputs 0, 1, 2, 3, 4\n"
      ],
      "metadata": {
        "colab": {
          "base_uri": "https://localhost:8080/"
        },
        "id": "DhaN-t3oHeVP",
        "outputId": "9ffcdaaa-d3e3-4fb1-bcb5-93ff4e429a1a"
      },
      "execution_count": 17,
      "outputs": [
        {
          "output_type": "stream",
          "name": "stdout",
          "text": [
            "0\n",
            "1\n",
            "2\n",
            "3\n",
            "4\n"
          ]
        }
      ]
    },
    {
      "cell_type": "markdown",
      "source": [
        "while Loop: Repeats as long as a condition is true.\n",
        "\n"
      ],
      "metadata": {
        "id": "mK75vedvH2BF"
      }
    },
    {
      "cell_type": "code",
      "source": [
        "i = 0\n",
        "while i < 5:\n",
        "    print(i)\n",
        "    i += 1  # Outputs 0, 1, 2, 3, 4\n"
      ],
      "metadata": {
        "colab": {
          "base_uri": "https://localhost:8080/"
        },
        "id": "wPdmr2SCHzeb",
        "outputId": "87a5df3f-f44b-468b-88aa-d31c4ad72ff9"
      },
      "execution_count": 18,
      "outputs": [
        {
          "output_type": "stream",
          "name": "stdout",
          "text": [
            "0\n",
            "1\n",
            "2\n",
            "3\n",
            "4\n"
          ]
        }
      ]
    },
    {
      "cell_type": "markdown",
      "source": [
        "nested Loops: Loops inside another loop.\n",
        "\n"
      ],
      "metadata": {
        "id": "sQ4H1kRFH73i"
      }
    },
    {
      "cell_type": "code",
      "source": [
        "for i in range(3):\n",
        "    for j in range(2):\n",
        "        print(i, j)\n"
      ],
      "metadata": {
        "colab": {
          "base_uri": "https://localhost:8080/"
        },
        "id": "tewwft1hH4au",
        "outputId": "f7a4d384-3e3d-4bc9-d573-a51c9a6a754b"
      },
      "execution_count": 19,
      "outputs": [
        {
          "output_type": "stream",
          "name": "stdout",
          "text": [
            "0 0\n",
            "0 1\n",
            "1 0\n",
            "1 1\n",
            "2 0\n",
            "2 1\n"
          ]
        }
      ]
    },
    {
      "cell_type": "markdown",
      "source": [
        "break and continue: Control the loop execution.\n",
        "\n"
      ],
      "metadata": {
        "id": "Ks5EX0a_IAcA"
      }
    },
    {
      "cell_type": "code",
      "source": [
        "for i in range(5):\n",
        "    if i == 3:\n",
        "        break  # Exits the loop when i is 3\n",
        "    print(i)\n",
        "\n",
        "for i in range(5):\n",
        "    if i == 3:\n",
        "        continue  # Skips the rest of the loop when i is 3\n",
        "    print(i)\n"
      ],
      "metadata": {
        "colab": {
          "base_uri": "https://localhost:8080/"
        },
        "id": "i_VNG-FvH9xt",
        "outputId": "d301c310-b967-42e6-93a8-adb27fe2223e"
      },
      "execution_count": 20,
      "outputs": [
        {
          "output_type": "stream",
          "name": "stdout",
          "text": [
            "0\n",
            "1\n",
            "2\n",
            "0\n",
            "1\n",
            "2\n",
            "4\n"
          ]
        }
      ]
    },
    {
      "cell_type": "code",
      "source": [],
      "metadata": {
        "id": "5F2TDnbPICNm"
      },
      "execution_count": null,
      "outputs": []
    }
  ]
}